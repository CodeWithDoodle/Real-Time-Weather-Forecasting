{
  "nbformat": 4,
  "nbformat_minor": 0,
  "metadata": {
    "colab": {
      "provenance": [],
      "authorship_tag": "ABX9TyPQVGizRyPgdCj2DceQb4Er",
      "include_colab_link": true
    },
    "kernelspec": {
      "name": "python3",
      "display_name": "Python 3"
    },
    "language_info": {
      "name": "python"
    }
  },
  "cells": [
    {
      "cell_type": "markdown",
      "metadata": {
        "id": "view-in-github",
        "colab_type": "text"
      },
      "source": [
        "<a href=\"https://colab.research.google.com/github/CodeWithDoodle/Real-Time-Weather-Forecasting/blob/main/Untitled0.ipynb\" target=\"_parent\"><img src=\"https://colab.research.google.com/assets/colab-badge.svg\" alt=\"Open In Colab\"/></a>"
      ]
    },
    {
      "cell_type": "code",
      "execution_count": 56,
      "metadata": {
        "id": "GKbIfwBTq1DP"
      },
      "outputs": [],
      "source": [
        "import requests\n",
        "import pandas as pd\n",
        "import numpy as np\n",
        "from sklearn.model_selection import train_test_split #to split data into training\n",
        "from sklearn.preprocessing import LabelEncoder\n",
        "from sklearn.ensemble import RandomForestClassifier, RandomForestRegressor #modells\n",
        "from sklearn.metrics import mean_squared_error\n",
        "from datetime import datetime, timedelta\n",
        "import pytz"
      ]
    },
    {
      "cell_type": "markdown",
      "source": [],
      "metadata": {
        "id": "5SO-5m_xrmqB"
      }
    },
    {
      "cell_type": "code",
      "source": [
        "API_KEY = '58316cf563056b6d2e9ee7e56eed166c'\n",
        "BASE_URL = 'https://api.openweathermap.org/data/2.5/'"
      ],
      "metadata": {
        "id": "yp4aBW_6rnNl"
      },
      "execution_count": 57,
      "outputs": []
    },
    {
      "cell_type": "code",
      "source": [
        "def get_current_weather(city):\n",
        "    url = f\"{BASE_URL}weather?q={city}&appid={API_KEY}&units=metric\"\n",
        "    response = requests.get(url)\n",
        "    data = response.json()\n",
        "    return {\n",
        "        'city': data['name'],\n",
        "        'current_temp': round(data['main']['temp']),\n",
        "        'feels_like': round(data['main']['feels_like']),\n",
        "        'temp_min': round(data['main']['temp_min']),\n",
        "        'temp_max': round(data['main']['temp_max']),\n",
        "        'humidity': round(data['main']['humidity']),\n",
        "        'description': data['weather'][0]['description'],\n",
        "        'country': data['sys']['country'],\n",
        "        'wind_gust_dir': data['wind']['deg'],\n",
        "        'pressure': data['main']['pressure'],\n",
        "        'Wind_Gust_Speed': data['wind']['speed']\n",
        "    }\n"
      ],
      "metadata": {
        "id": "uL3BxVznsLYq"
      },
      "execution_count": 58,
      "outputs": []
    },
    {
      "cell_type": "markdown",
      "source": [],
      "metadata": {
        "id": "1tslnVnwPmRC"
      }
    },
    {
      "cell_type": "code",
      "source": [
        "def read_historical_data(filename):\n",
        "  df = pd.read_csv(filename) #load csv file into dataframe\n",
        "  df= df.dropna() #remove rows wit missing values\n",
        "  df=df.drop_duplicates()\n",
        "  return df"
      ],
      "metadata": {
        "id": "SXbavYt2uJ7h"
      },
      "execution_count": 59,
      "outputs": []
    },
    {
      "cell_type": "markdown",
      "source": [
        "prepare data for training\n"
      ],
      "metadata": {
        "id": "P-eHhPLUPnZ7"
      }
    },
    {
      "cell_type": "code",
      "source": [
        "def prepare_data(data):\n",
        "    le = LabelEncoder()\n",
        "    data['WindGustDir'] = le.fit_transform(data['WindGustDir'])\n",
        "    data['RainTomorrow'] = le.fit_transform(data['RainTomorrow'])\n",
        "    x = data[['MinTemp', 'MaxTemp', 'WindGustDir', 'WindGustSpeed', 'Humidity', 'Pressure', 'Temp']]\n",
        "    y = data['RainTomorrow']\n",
        "    return x, y, le"
      ],
      "metadata": {
        "id": "HdBtdPYcPqmy"
      },
      "execution_count": 60,
      "outputs": []
    },
    {
      "cell_type": "markdown",
      "source": [
        "Train rain prediction model"
      ],
      "metadata": {
        "id": "GixF8Y2xRqWd"
      }
    },
    {
      "cell_type": "code",
      "source": [
        "def train_rain_model(x,y):\n",
        "  x_train,x_test,y_train,y_test=train_test_split(x,y,test_size=0.2,random_state=42)\n",
        "  model=RandomForestClassifier(n_estimators=100,random_state=42)\n",
        "  model.fit(x_train,y_train)\n",
        "  y_pred=model.predict(x_test)\n",
        "  print(\"MSE FOR RAIN MODEL\")\n",
        "  print(mean_squared_error(y_test,y_pred))\n",
        "  return model"
      ],
      "metadata": {
        "id": "m8mFpeJQRoKv"
      },
      "execution_count": 61,
      "outputs": []
    },
    {
      "cell_type": "markdown",
      "source": [
        "prepare regression data"
      ],
      "metadata": {
        "id": "SrbIIh-vSm-t"
      }
    },
    {
      "cell_type": "code",
      "source": [
        "def prepare_regression_data(data, feature):\n",
        "    x, y = [], []\n",
        "    for i in range(len(data) - 1):\n",
        "        x.append(data[feature].iloc[i])\n",
        "        y.append(data[feature].iloc[i + 1])\n",
        "    return np.array(x).reshape(-1, 1), np.array(y)"
      ],
      "metadata": {
        "id": "lkAmTjyUSrIp"
      },
      "execution_count": 62,
      "outputs": []
    },
    {
      "cell_type": "markdown",
      "source": [
        "train regresion model\n"
      ],
      "metadata": {
        "id": "HrLnVq9UZ-yB"
      }
    },
    {
      "cell_type": "code",
      "source": [
        "def train_regression_model(x, y):\n",
        "    model = RandomForestRegressor(n_estimators=100, random_state=42)\n",
        "    model.fit(x, y)\n",
        "    return model"
      ],
      "metadata": {
        "id": "ZUb3NTxraAWq"
      },
      "execution_count": 63,
      "outputs": []
    },
    {
      "cell_type": "markdown",
      "source": [
        "predict future"
      ],
      "metadata": {
        "id": "7hMPZFfdamdc"
      }
    },
    {
      "cell_type": "code",
      "source": [
        "def predict_future(model, current_value):\n",
        "    predictions = [current_value]\n",
        "    for _ in range(5):\n",
        "        next_value = model.predict(np.array([[predictions[-1]]]))[0]\n",
        "        predictions.append(next_value)\n",
        "    return predictions[1:]"
      ],
      "metadata": {
        "id": "hSr9kQlYaf5o"
      },
      "execution_count": 64,
      "outputs": []
    },
    {
      "cell_type": "markdown",
      "source": [
        "Weather Analysis Functions\n"
      ],
      "metadata": {
        "id": "_lZTgxTHbfqP"
      }
    },
    {
      "cell_type": "code",
      "source": [
        "def weather_view():\n",
        "    city = input(\"Enter city name: \")\n",
        "    current_weather = get_current_weather(city)\n",
        "    historical_data = read_historical_data('/weather.csv')\n",
        "\n",
        "    x, y, le = prepare_data(historical_data)\n",
        "    rain_model = train_rain_model(x, y)\n",
        "\n",
        "    wind_deg = current_weather['wind_gust_dir'] % 360\n",
        "    compass_points = [\n",
        "        (\"N\", 0, 11.25), (\"NNE\", 11.25, 33.75), (\"NE\", 33.75, 56.25),\n",
        "        (\"ENE\", 56.25, 78.75), (\"E\", 78.75, 101.25), (\"ESE\", 101.25, 123.75),\n",
        "        (\"SE\", 123.75, 146.25), (\"SSE\", 146.25, 168.75), (\"S\", 168.75, 191.25),\n",
        "        (\"SSW\", 191.25, 213.75), (\"SW\", 213.75, 236.25), (\"WSW\", 236.25, 258.75),\n",
        "        (\"W\", 258.75, 281.25), (\"WNW\", 281.25, 303.75), (\"NW\", 303.75, 326.25),\n",
        "        (\"NNW\", 326.25, 348.75)\n",
        "    ]\n",
        "\n",
        "    compass_direction = next((point for point, start, end in compass_points if start <= wind_deg < end), \"Unknown\")\n",
        "    compass_direction_encoded = le.transform([compass_direction])[0] if compass_direction in le.classes_ else -1\n",
        "\n",
        "    current_data = {\n",
        "        'MinTemp': current_weather['temp_min'],\n",
        "        'MaxTemp': current_weather['temp_max'],\n",
        "        'WindGustDir': compass_direction_encoded,\n",
        "        'WindGustSpeed': current_weather['Wind_Gust_Speed'],\n",
        "        'Humidity': current_weather['humidity'],\n",
        "        'Pressure': current_weather['pressure'],\n",
        "        'Temp': current_weather['current_temp'],\n",
        "    }\n",
        "    current_df = pd.DataFrame([current_data])\n",
        "    rain_prediction = rain_model.predict(current_df)[0]\n",
        "\n",
        "    X_temp, y_temp = prepare_regression_data(historical_data, 'Temp')\n",
        "    X_hum, y_hum = prepare_regression_data(historical_data, 'Humidity')\n",
        "\n",
        "    temp_model = train_regression_model(X_temp, y_temp)\n",
        "    hum_model = train_regression_model(X_hum, y_hum)\n",
        "\n",
        "    future_temp = predict_future(temp_model, current_weather['temp_min'])\n",
        "    future_humidity = predict_future(hum_model, current_weather['humidity'])\n",
        "\n",
        "    timezone = pytz.timezone('Asia/Kolkata')\n",
        "    now = datetime.now(timezone)\n",
        "    next_hour = now + timedelta(hours=1)\n",
        "    next_hour = next_hour.replace(minute=0, second=0, microsecond=0)\n",
        "    future_times = [(next_hour + timedelta(hours=i)).strftime(\"%H:00\") for i in range(5)]\n",
        "\n",
        "    print(f\"City: {city}, {current_weather['country']}\")\n",
        "    print(f\"Current Temperature: {current_weather['current_temp']}°C\")\n",
        "    print(f\"Feels Like: {current_weather['feels_like']}°C\")\n",
        "    print(f\"Minimum Temperature: {current_weather['temp_min']}°C\")\n",
        "    print(f\"Maximum Temperature: {current_weather['temp_max']}°C\")\n",
        "    print(f\"Humidity: {current_weather['humidity']}%\")\n",
        "    print(f\"Weather Prediction: {current_weather['description']}\")\n",
        "    print(f\"Rain Prediction: {'Yes' if rain_prediction else 'No'}\")\n",
        "\n",
        "    print(\"\\nFuture Temperature Predictions:\")\n",
        "    for time, temp in zip(future_times, future_temp):\n",
        "        print(f\"{time}: {round(temp, 1)}°C\")\n",
        "\n",
        "    print(\"\\nFuture Humidity Predictions:\")\n",
        "    for time, humidity in zip(future_times, future_humidity):\n",
        "        print(f\"{time}: {round(humidity, 1)}%\")\n",
        "\n",
        "weather_view()"
      ],
      "metadata": {
        "colab": {
          "base_uri": "https://localhost:8080/"
        },
        "id": "0R-CEccgbkNm",
        "outputId": "7cfcbb19-db5c-450a-860b-6b9343c9cf91"
      },
      "execution_count": 65,
      "outputs": [
        {
          "output_type": "stream",
          "name": "stdout",
          "text": [
            "Enter city name: Mumbai\n",
            "MSE FOR RAIN MODEL\n",
            "0.1506849315068493\n",
            "City: Mumbai, IN\n",
            "Current Temperature: 30°C\n",
            "Feels Like: 30°C\n",
            "Minimum Temperature: 30°C\n",
            "Maximum Temperature: 30°C\n",
            "Humidity: 39%\n",
            "Weather Prediction: smoke\n",
            "Rain Prediction: No\n",
            "\n",
            "Future Temperature Predictions:\n",
            "01:00: 28.5°C\n",
            "02:00: 22.0°C\n",
            "03:00: 23.9°C\n",
            "04:00: 21.4°C\n",
            "05:00: 22.7°C\n",
            "\n",
            "Future Humidity Predictions:\n",
            "01:00: 31.7%\n",
            "02:00: 38.0%\n",
            "03:00: 52.3%\n",
            "04:00: 43.4%\n",
            "05:00: 46.8%\n"
          ]
        }
      ]
    }
  ]
}
